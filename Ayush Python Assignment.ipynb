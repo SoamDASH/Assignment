{
 "cells": [
  {
   "cell_type": "markdown",
   "id": "316f90e5",
   "metadata": {},
   "source": [
    "## Ayush python Assignment\n",
    "\n",
    "#### Problem 2 :\n",
    "**Find all prime factors between two numbers**\n",
    "\n",
    "***Solution:***"
   ]
  },
  {
   "cell_type": "code",
   "execution_count": 106,
   "id": "c41b7ca7",
   "metadata": {},
   "outputs": [
    {
     "name": "stdout",
     "output_type": "stream",
     "text": [
      "Enter a: 2\n",
      "Enter b:20\n",
      " \n",
      "Prime Numbers between 2 and 20 are:\n",
      "2,3,5,7,11,13,17,19,"
     ]
    }
   ],
   "source": [
    "a = int(input(\"Enter a: \"))\n",
    "b = int(input(\"Enter b:\"))\n",
    "print(\" \")\n",
    "print(\"Prime Numbers between\", a, \"and\", b, \"are:\")\n",
    "for num in range(a, b +1):\n",
    "    if num>1:\n",
    "        for i in range(2, num):\n",
    "            if (num % i)== 0:\n",
    "                break\n",
    "        else:\n",
    "            print(num,end= ',')"
   ]
  },
  {
   "cell_type": "markdown",
   "id": "36550e6a",
   "metadata": {},
   "source": [
    "#### Problem 3:\n",
    "\n",
    "**Write a Python Program to convert decimal to binary number.**\n",
    "\n",
    "***Solution:***"
   ]
  },
  {
   "cell_type": "markdown",
   "id": "bac282c2",
   "metadata": {},
   "source": [
    " ##### What is Binary Number?\n",
    " \n",
    "**Binary is a base-2 number system invented by Gottfried Leibniz that's made up of only two numbers or digits: 0 (zero) and 1 (one). This numbering system is the basis for all binary code, which is used to write digital data such as the computer processor instructions used every day.**\n",
    "\n",
    "\n",
    "##### Why we need to Conversion to Binary?\n",
    "\n",
    "**Because binary numbers are the only language a computer can understand, binary output is crucial.**"
   ]
  },
  {
   "cell_type": "code",
   "execution_count": 2,
   "id": "9ddd6184",
   "metadata": {},
   "outputs": [
    {
     "name": "stdout",
     "output_type": "stream",
     "text": [
      "Enter a Deciaml Number:9\n",
      " \n",
      "1001 = is your Convertion Binary Number of Input Decimal\n"
     ]
    }
   ],
   "source": [
    "def convertToBinary(n):\n",
    "    if n > 1:\n",
    "        convertToBinary(n//2)\n",
    "    print(n % 2, end = '')\n",
    "    \n",
    "dec = int(input(\"Enter a Deciaml Number:\"))\n",
    "\n",
    "print(' ')\n",
    "convertToBinary(dec)\n",
    "print(\" = is your Convertion Binary Number of Input Decimal\")"
   ]
  },
  {
   "cell_type": "markdown",
   "id": "41968b4f",
   "metadata": {},
   "source": [
    "#### Problem 4:\n",
    "\n",
    "**Write a Python Program that prints out all the perfect numbers in a given\n",
    "    range.**\n",
    "    \n",
    "***Solution:***"
   ]
  },
  {
   "cell_type": "markdown",
   "id": "9538c0d6",
   "metadata": {},
   "source": [
    "##### What is Perfect Number?\n",
    "\n",
    "**A Perfect Number “n”, is a positive integer which is equal to the sum of its factors, excluding “n” itself.**\n",
    "\n",
    "\n"
   ]
  },
  {
   "attachments": {
    "images.png": {
     "image/png": "[encoded data removed]"
    }
   },
   "cell_type": "markdown",
   "id": "3c46d5c4",
   "metadata": {},
   "source": [
    "![images.png](attachment:images.png)"
   ]
  },
  {
   "cell_type": "code",
   "execution_count": 5,
   "id": "79a78403",
   "metadata": {},
   "outputs": [
    {
     "name": "stdout",
     "output_type": "stream",
     "text": [
      "Enter x: 1\n",
      "\n",
      "Enter y: 10000\n",
      " \n",
      "1,6,28,496,8128,= Perfect Numbers\n"
     ]
    }
   ],
   "source": [
    "x = int(input(\"Enter x: \")) \n",
    "y = int(input(\"\\nEnter y: \")) \n",
    " \n",
    " \n",
    "def perfect(x,y): \n",
    "    for each in range(x,y+1): \n",
    "        half = each//2 \n",
    "        summ=1 \n",
    "        for i in range(2,half+1): \n",
    "            if (each%i)==0: \n",
    "                summ+=i \n",
    "        if summ==each: \n",
    "         \n",
    "            print(each,end=\",\") \n",
    "\n",
    "print(' ')\n",
    "perfect(x,y)\n",
    "\n",
    "print(\"= Perfect Numbers\")"
   ]
  },
  {
   "cell_type": "markdown",
   "id": "2b2bcf7d",
   "metadata": {},
   "source": [
    "#### Problem 5:\n",
    "\n",
    "**Write a Python Program that finds the sum of the divisors, and make sure\n",
    "    that the divisor should be proper.**\n",
    "    \n",
    "***solution:***"
   ]
  },
  {
   "cell_type": "code",
   "execution_count": 6,
   "id": "18703399",
   "metadata": {},
   "outputs": [
    {
     "name": "stdout",
     "output_type": "stream",
     "text": [
      "Enter Your Lucky Number Please: 8\n",
      "The divisors of Your Lucky Number: \n",
      "1\n",
      "2\n",
      "4\n",
      "8\n",
      "The sum of divisors 15\n"
     ]
    }
   ],
   "source": [
    "prompt = int(input(\"Enter Your Lucky Number Please: \"))\n",
    "\n",
    "divisors = [i for i in range(1,prompt+1) \n",
    "            if prompt%i==0]\n",
    "divisor_sum = sum(divisors)\n",
    "\n",
    "print(\"The divisors of Your Lucky Number: \")\n",
    "for i in divisors:\n",
    "    print(i)\n",
    "\n",
    "print(\"The sum of divisors \" + str(divisor_sum))"
   ]
  },
  {
   "cell_type": "markdown",
   "id": "5ddba851",
   "metadata": {},
   "source": [
    "#### Problem 6:\n",
    "\n",
    "**Write a program which can filter odd numbers in a list by using filter\n",
    "    function.**\n",
    "    \n",
    "***Solution:***"
   ]
  },
  {
   "cell_type": "code",
   "execution_count": 7,
   "id": "2d561c5e",
   "metadata": {},
   "outputs": [
    {
     "name": "stdout",
     "output_type": "stream",
     "text": [
      "Enter the total number of items on your list : 7\n",
      "1\n",
      "24\n",
      "59\n",
      "74\n",
      "54\n",
      "46\n",
      "51\n",
      "\n",
      "List Created By you: [1, 24, 59, 74, 54, 46, 51]\n",
      "\n",
      "Output Odd Values from your List: [1, 59, 51]\n"
     ]
    }
   ],
   "source": [
    "#filter odd number using filter()\n",
    "\n",
    "l = []\n",
    "  \n",
    "n = int(input(\"Enter the total number of items on your list : \"))\n",
    "  \n",
    "for i in range(0, n):\n",
    "    Enter_Number = int(input())\n",
    "  \n",
    "    l.append(Enter_Number)\n",
    "    \n",
    "def is_odd(x):\n",
    "    return x % 2 != 0\n",
    "odd_l = list(filter(is_odd, l))\n",
    "\n",
    "print('')\n",
    "print(\"List Created By you:\",l)\n",
    "print('')\n",
    "print(\"Output Odd Values from your List:\",odd_l)"
   ]
  },
  {
   "cell_type": "code",
   "execution_count": 8,
   "id": "63703ad3",
   "metadata": {},
   "outputs": [
    {
     "name": "stdout",
     "output_type": "stream",
     "text": [
      "Odd number list: [1, 59, 51]\n",
      " \n",
      "Even Number list: [24, 74, 54, 46]\n"
     ]
    }
   ],
   "source": [
    "#filter odd and even both using for loop\n",
    "\n",
    "odd = []\n",
    "even = []\n",
    "\n",
    "for num in l:\n",
    "    if num % 2 != 0:\n",
    "        odd.append(num)\n",
    "    else:\n",
    "        even.append(num)\n",
    "        \n",
    "print(\"Odd number list:\",odd)\n",
    "print(' ')\n",
    "print(\"Even Number list:\",even)"
   ]
  },
  {
   "cell_type": "markdown",
   "id": "c057d67c",
   "metadata": {},
   "source": [
    "#### Problem 7:\n",
    "\n",
    "**Write a program which can map() to make a list whose elements are cube of\n",
    "    elements in a given list.**\n",
    "    \n",
    "***Solution:***"
   ]
  },
  {
   "cell_type": "code",
   "execution_count": 107,
   "id": "12857555",
   "metadata": {},
   "outputs": [
    {
     "name": "stdout",
     "output_type": "stream",
     "text": [
      "Enter the total number of items on your list :  8\n",
      "4\n",
      "14\n",
      "24\n",
      "9\n",
      "6\n",
      "7\n",
      "31\n",
      "12\n",
      "\n",
      "List Created By you: [4, 14, 24, 9, 6, 7, 31, 12]\n",
      "\n",
      "List With Cube values: [64, 2744, 13824, 729, 216, 343, 29791, 1728]\n"
     ]
    }
   ],
   "source": [
    "l = []\n",
    "  \n",
    "n = int(input(\"Enter the total number of items on your list :  \"))\n",
    "  \n",
    "for i in range(0, n):\n",
    "    Enter_Number = int(input())\n",
    "  \n",
    "    l.append(Enter_Number)\n",
    "      \n",
    "\n",
    "def cube(a):\n",
    "    return a*a*a\n",
    "\n",
    "cubes = map(cube,l)\n",
    "\n",
    "print('')\n",
    "print(\"List Created By you:\",l)\n",
    "print(\"\")\n",
    "print(\"List With Cube values:\", list(cubes))"
   ]
  },
  {
   "cell_type": "markdown",
   "id": "34e06e74",
   "metadata": {},
   "source": [
    "#### Problem 8:\n",
    "\n",
    "**Write a Python Program that prints out the sum of all even numbers from 1 to\n",
    "    N.**\n",
    "    \n",
    "***Solution:***"
   ]
  },
  {
   "cell_type": "code",
   "execution_count": 100,
   "id": "ae58c4c9",
   "metadata": {},
   "outputs": [
    {
     "name": "stdout",
     "output_type": "stream",
     "text": [
      "Enter the start of range: 4\n",
      "Enter the end of range: 14\n",
      "Even Numbers: 4 6 8 10 12 14\n",
      "Total SUM fo Even values: 54\n"
     ]
    }
   ],
   "source": [
    "m = int(input(\"Enter the start of range: \"))\n",
    "n = int(input(\"Enter the end of range: \"))\n",
    "\n",
    "x=[i for i in range(4,15+1) if i%2==0]\n",
    "print(\"Even Numbers:\",*x)\n",
    "\n",
    "total = sum(x)\n",
    "print(\"Total SUM fo Even values:\",total)"
   ]
  },
  {
   "cell_type": "markdown",
   "id": "e0512aa9",
   "metadata": {},
   "source": [
    "##### NOTES:\n",
    "\n",
    "Type of m:   **<class 'int'>**\n",
    "\n",
    "Type of  n: **<class 'int'>**\n",
    " \n",
    "Type of  x: **<class 'list'>**\n",
    "\n",
    "***The only things we can iterate through are lists, strings, and dictionaries—not numerical values or integers!***"
   ]
  },
  {
   "attachments": {
    "WhatsApp%20Image%202022-11-19%20at%2018.53.09.jpeg": {
     "image/jpeg": "[encoded data removed]"
    }
   },
   "cell_type": "markdown",
   "id": "b3269097",
   "metadata": {},
   "source": [
    "![WhatsApp%20Image%202022-11-19%20at%2018.53.09.jpeg](attachment:WhatsApp%20Image%202022-11-19%20at%2018.53.09.jpeg)"
   ]
  }
 ],
 "metadata": {
  "kernelspec": {
   "display_name": "Python 3 (ipykernel)",
   "language": "python",
   "name": "python3"
  },
  "language_info": {
   "codemirror_mode": {
    "name": "ipython",
    "version": 3
   },
   "file_extension": ".py",
   "mimetype": "text/x-python",
   "name": "python",
   "nbconvert_exporter": "python",
   "pygments_lexer": "ipython3",
   "version": "3.9.7"
  }
 },
 "nbformat": 4,
 "nbformat_minor": 5
}
